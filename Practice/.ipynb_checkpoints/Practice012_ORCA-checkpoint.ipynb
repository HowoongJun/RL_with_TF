{
 "cells": [
  {
   "cell_type": "code",
   "execution_count": 1,
   "metadata": {},
   "outputs": [
    {
     "name": "stdout",
     "output_type": "stream",
     "text": [
      "Simulation has 2 agents and 0 obstacle vertices in it.\n",
      "Running simulation\n",
      "End\n"
     ]
    }
   ],
   "source": [
    "#!/usr/bin/env python\n",
    "\n",
    "import rvo2\n",
    "import pygame\n",
    "dispSize = [1280, 960]\n",
    "#timeStep, neighborDist, maxNeighbors, timeHorizon, timeHorizonObst, radius, maxSpeed, c_velocity\n",
    "sim = rvo2.PyRVOSimulator(1/60., 20, 5, 1.5, 2, 20, 2.0, (0, 0))\n",
    "screen = pygame.display.set_mode(dispSize)\n",
    "screen.fill([220, 220, 220])\n",
    "# Pass either just the position (the other parameters then use\n",
    "# the default values passed to the PyRVOSimulator constructor),\n",
    "# or pass all available parameters.\n",
    "a0 = sim.addAgent((500, 500), 20, 5, 1.5, 2, 10, 1.0, (0, 0))\n",
    "a1 = sim.addAgent((540, 550), 20, 5, 1.5, 2, 10, 1.0, (0, 0))\n",
    "tmpXY = [[500, 500], [540, 550]]\n",
    "# Obstacles are also supported.\n",
    "# o1 = sim.addObstacle([(150, 150), (120, 120), (180, 180)])\n",
    "# sim.processObstacles()\n",
    "\n",
    "print('Simulation has %i agents and %i obstacle vertices in it.' % (sim.getNumAgents(), sim.getNumObstacleVertices()))\n",
    "print('Running simulation')\n",
    "\n",
    "for step in range(500):\n",
    "    sim.setAgentPrefVelocity(a0, (1, 1))\n",
    "    sim.setAgentPrefVelocity(a1, (-1, -1))\n",
    "    sim.setAgentPosition(a0, (tmpXY[0][0], tmpXY[0][1]))\n",
    "    sim.setAgentPosition(a1, (tmpXY[1][0], tmpXY[1][1]))\n",
    "    sim.doStep()\n",
    "#     positions = ['(%5.3f, %5.3f)' % sim.getAgentPosition(agent_no) for agent_no in (a0, a1)]\n",
    "#     print('step=%2i  t=%.3f  %s' % (step, sim.getGlobalTime(), '  '.join(positions)))\n",
    "#     print sim.getAgentVelocity(a0)\n",
    "    tmpXY = []\n",
    "    for agent_no in (a0, a1):\n",
    "        tmpXY = tmpXY + [[int(sim.getAgentPosition(agent_no)[0]), int(sim.getAgentPosition(agent_no)[1])]]\n",
    "        pygame.draw.circle(screen, [100, 100, 255], tmpXY[agent_no], 10, 0)\n",
    "        \n",
    "#     print('step=%2i  t=%.3f  %s' % (step, sim.getGlobalTime(), '  '.join(positions)))\n",
    "    pygame.display.flip()\n",
    "    screen.fill([220,220,220])\n",
    "print \"End\""
   ]
  },
  {
   "cell_type": "code",
   "execution_count": null,
   "metadata": {
    "collapsed": true
   },
   "outputs": [],
   "source": []
  }
 ],
 "metadata": {
  "kernelspec": {
   "display_name": "Python 2",
   "language": "python",
   "name": "python2"
  },
  "language_info": {
   "codemirror_mode": {
    "name": "ipython",
    "version": 2
   },
   "file_extension": ".py",
   "mimetype": "text/x-python",
   "name": "python",
   "nbconvert_exporter": "python",
   "pygments_lexer": "ipython2",
   "version": "2.7.14"
  }
 },
 "nbformat": 4,
 "nbformat_minor": 2
}
