{
 "cells": [
  {
   "cell_type": "code",
   "execution_count": 5,
   "metadata": {
    "collapsed": true
   },
   "outputs": [],
   "source": [
    "import pygame, sys, random\n",
    "import numpy as np\n",
    "import math\n",
    "import matplotlib.pyplot as plt\n",
    "import pylab\n",
    "from RVO_Py_MAS.RVO import RVO_update, reach, compute_V_des\n",
    "from RVO_Py_MAS.vis import visualize_traj_dynamic\n",
    "\n",
    "num_episodes = 250\n",
    "\n",
    "obstacleRadius = 10\n",
    "agentRadius = 10\n",
    "\n",
    "# get size of state and action from environment\n",
    "\n",
    "boundaryPos = [100, 100]\n",
    "boundaryLength = [70,70]\n",
    "boundaryRadius = 40\n",
    "dispSize = [1280, 960]\n",
    "initPosAgentStandard = [dispSize[0] - 100, 100]\n",
    "initPosAgent = initPosAgentStandard\n",
    "goalPos = [100, 900]\n",
    "rangeNumber = 5\n",
    "obsNumber = 50"
   ]
  },
  {
   "cell_type": "code",
   "execution_count": 6,
   "metadata": {
    "collapsed": true
   },
   "outputs": [],
   "source": [
    "ws_model = dict()\n",
    "ws_model['robot_radius'] = agentRadius\n",
    "ws_model['circular_obstacles'] = []\n",
    "ws_model['boundary'] = []"
   ]
  },
  {
   "cell_type": "code",
   "execution_count": 7,
   "metadata": {
    "collapsed": true
   },
   "outputs": [],
   "source": [
    "def rangeFinder(allObsPos, rangeCenter):\n",
    "    indexMin = []\n",
    "    tmpDist = [0 for _ in range(obsNumber)]\n",
    "    allObsAgtDistance = [0 for _ in range(obsNumber)]\n",
    "    for i in range(0, obsNumber):\n",
    "        allObsAgtDistance[i] = math.sqrt((allObsPos[i][0] - rangeCenter[0])**2 + (allObsPos[i][1] - rangeCenter[1])**2)\n",
    "        tmpDist[i] = allObsAgtDistance[i]\n",
    "    tmpDist.sort()\n",
    "    for i in range(0, rangeNumber):\n",
    "        indexMin.append(allObsAgtDistance.index(tmpDist[i]))\n",
    "    return indexMin"
   ]
  },
  {
   "cell_type": "code",
   "execution_count": 8,
   "metadata": {},
   "outputs": [
    {
     "name": "stdout",
     "output_type": "stream",
     "text": [
      "('Episode ', 0, 'Starts!')\n"
     ]
    },
    {
     "ename": "KeyboardInterrupt",
     "evalue": "",
     "output_type": "error",
     "traceback": [
      "\u001b[0;31m---------------------------------------------------------------------------\u001b[0m",
      "\u001b[0;31mKeyboardInterrupt\u001b[0m                         Traceback (most recent call last)",
      "\u001b[0;32m<ipython-input-8-f6a72783bffc>\u001b[0m in \u001b[0;36m<module>\u001b[0;34m()\u001b[0m\n\u001b[1;32m     42\u001b[0m     \u001b[0;32mwhile\u001b[0m \u001b[0;32mnot\u001b[0m \u001b[0mdone\u001b[0m\u001b[0;34m:\u001b[0m\u001b[0;34m\u001b[0m\u001b[0m\n\u001b[1;32m     43\u001b[0m         \u001b[0mV_des\u001b[0m \u001b[0;34m=\u001b[0m \u001b[0mcompute_V_des\u001b[0m\u001b[0;34m(\u001b[0m\u001b[0mX\u001b[0m\u001b[0;34m,\u001b[0m \u001b[0mgoal\u001b[0m\u001b[0;34m,\u001b[0m \u001b[0mV_max\u001b[0m\u001b[0;34m)\u001b[0m\u001b[0;34m\u001b[0m\u001b[0m\n\u001b[0;32m---> 44\u001b[0;31m         \u001b[0mV\u001b[0m \u001b[0;34m=\u001b[0m \u001b[0mRVO_update\u001b[0m\u001b[0;34m(\u001b[0m\u001b[0mX\u001b[0m\u001b[0;34m,\u001b[0m \u001b[0mV_des\u001b[0m\u001b[0;34m,\u001b[0m \u001b[0mV\u001b[0m\u001b[0;34m,\u001b[0m \u001b[0mws_model\u001b[0m\u001b[0;34m)\u001b[0m\u001b[0;34m\u001b[0m\u001b[0m\n\u001b[0m\u001b[1;32m     45\u001b[0m \u001b[0;34m\u001b[0m\u001b[0m\n\u001b[1;32m     46\u001b[0m         \u001b[0mx\u001b[0m \u001b[0;34m+=\u001b[0m \u001b[0mint\u001b[0m\u001b[0;34m(\u001b[0m\u001b[0mV\u001b[0m\u001b[0;34m[\u001b[0m\u001b[0;36m0\u001b[0m\u001b[0;34m]\u001b[0m\u001b[0;34m[\u001b[0m\u001b[0;36m0\u001b[0m\u001b[0;34m]\u001b[0m\u001b[0;34m)\u001b[0m\u001b[0;34m\u001b[0m\u001b[0m\n",
      "\u001b[0;32m/home/howoongjun/RLPractice/Practice/RVO_Py_MAS/RVO.pyc\u001b[0m in \u001b[0;36mRVO_update\u001b[0;34m(X, V_des, V_current, ws_model)\u001b[0m\n\u001b[1;32m     63\u001b[0m             \u001b[0mRVO_BA\u001b[0m \u001b[0;34m=\u001b[0m \u001b[0;34m[\u001b[0m\u001b[0mtransl_vB_vA\u001b[0m\u001b[0;34m,\u001b[0m \u001b[0mbound_left\u001b[0m\u001b[0;34m,\u001b[0m \u001b[0mbound_right\u001b[0m\u001b[0;34m,\u001b[0m \u001b[0mdist_BA\u001b[0m\u001b[0;34m,\u001b[0m \u001b[0mrad\u001b[0m\u001b[0;34m+\u001b[0m\u001b[0mROB_RAD\u001b[0m\u001b[0;34m]\u001b[0m\u001b[0;34m\u001b[0m\u001b[0m\n\u001b[1;32m     64\u001b[0m             \u001b[0mRVO_BA_all\u001b[0m\u001b[0;34m.\u001b[0m\u001b[0mappend\u001b[0m\u001b[0;34m(\u001b[0m\u001b[0mRVO_BA\u001b[0m\u001b[0;34m)\u001b[0m\u001b[0;34m\u001b[0m\u001b[0m\n\u001b[0;32m---> 65\u001b[0;31m         \u001b[0mvA_post\u001b[0m \u001b[0;34m=\u001b[0m \u001b[0mintersect\u001b[0m\u001b[0;34m(\u001b[0m\u001b[0mpA\u001b[0m\u001b[0;34m,\u001b[0m \u001b[0mV_des\u001b[0m\u001b[0;34m[\u001b[0m\u001b[0mi\u001b[0m\u001b[0;34m]\u001b[0m\u001b[0;34m,\u001b[0m \u001b[0mRVO_BA_all\u001b[0m\u001b[0;34m)\u001b[0m\u001b[0;34m\u001b[0m\u001b[0m\n\u001b[0m\u001b[1;32m     66\u001b[0m         \u001b[0mV_opt\u001b[0m\u001b[0;34m[\u001b[0m\u001b[0mi\u001b[0m\u001b[0;34m]\u001b[0m \u001b[0;34m=\u001b[0m \u001b[0mvA_post\u001b[0m\u001b[0;34m[\u001b[0m\u001b[0;34m:\u001b[0m\u001b[0;34m]\u001b[0m\u001b[0;34m\u001b[0m\u001b[0m\n\u001b[1;32m     67\u001b[0m     \u001b[0;32mreturn\u001b[0m \u001b[0mV_opt\u001b[0m\u001b[0;34m\u001b[0m\u001b[0m\n",
      "\u001b[0;32m/home/howoongjun/RLPractice/Practice/RVO_Py_MAS/RVO.pyc\u001b[0m in \u001b[0;36mintersect\u001b[0;34m(pA, vA, RVO_BA_all)\u001b[0m\n\u001b[1;32m     82\u001b[0m                 \u001b[0mleft\u001b[0m \u001b[0;34m=\u001b[0m \u001b[0mRVO_BA\u001b[0m\u001b[0;34m[\u001b[0m\u001b[0;36m1\u001b[0m\u001b[0;34m]\u001b[0m\u001b[0;34m\u001b[0m\u001b[0m\n\u001b[1;32m     83\u001b[0m                 \u001b[0mright\u001b[0m \u001b[0;34m=\u001b[0m \u001b[0mRVO_BA\u001b[0m\u001b[0;34m[\u001b[0m\u001b[0;36m2\u001b[0m\u001b[0;34m]\u001b[0m\u001b[0;34m\u001b[0m\u001b[0m\n\u001b[0;32m---> 84\u001b[0;31m                 \u001b[0mdif\u001b[0m \u001b[0;34m=\u001b[0m \u001b[0;34m[\u001b[0m\u001b[0mnew_v\u001b[0m\u001b[0;34m[\u001b[0m\u001b[0;36m0\u001b[0m\u001b[0;34m]\u001b[0m\u001b[0;34m+\u001b[0m\u001b[0mpA\u001b[0m\u001b[0;34m[\u001b[0m\u001b[0;36m0\u001b[0m\u001b[0;34m]\u001b[0m\u001b[0;34m-\u001b[0m\u001b[0mp_0\u001b[0m\u001b[0;34m[\u001b[0m\u001b[0;36m0\u001b[0m\u001b[0;34m]\u001b[0m\u001b[0;34m,\u001b[0m \u001b[0mnew_v\u001b[0m\u001b[0;34m[\u001b[0m\u001b[0;36m1\u001b[0m\u001b[0;34m]\u001b[0m\u001b[0;34m+\u001b[0m\u001b[0mpA\u001b[0m\u001b[0;34m[\u001b[0m\u001b[0;36m1\u001b[0m\u001b[0;34m]\u001b[0m\u001b[0;34m-\u001b[0m\u001b[0mp_0\u001b[0m\u001b[0;34m[\u001b[0m\u001b[0;36m1\u001b[0m\u001b[0;34m]\u001b[0m\u001b[0;34m]\u001b[0m\u001b[0;34m\u001b[0m\u001b[0m\n\u001b[0m\u001b[1;32m     85\u001b[0m                 \u001b[0mtheta_dif\u001b[0m \u001b[0;34m=\u001b[0m \u001b[0matan2\u001b[0m\u001b[0;34m(\u001b[0m\u001b[0mdif\u001b[0m\u001b[0;34m[\u001b[0m\u001b[0;36m1\u001b[0m\u001b[0;34m]\u001b[0m\u001b[0;34m,\u001b[0m \u001b[0mdif\u001b[0m\u001b[0;34m[\u001b[0m\u001b[0;36m0\u001b[0m\u001b[0;34m]\u001b[0m\u001b[0;34m)\u001b[0m\u001b[0;34m\u001b[0m\u001b[0m\n\u001b[1;32m     86\u001b[0m                 \u001b[0mtheta_right\u001b[0m \u001b[0;34m=\u001b[0m \u001b[0matan2\u001b[0m\u001b[0;34m(\u001b[0m\u001b[0mright\u001b[0m\u001b[0;34m[\u001b[0m\u001b[0;36m1\u001b[0m\u001b[0;34m]\u001b[0m\u001b[0;34m,\u001b[0m \u001b[0mright\u001b[0m\u001b[0;34m[\u001b[0m\u001b[0;36m0\u001b[0m\u001b[0;34m]\u001b[0m\u001b[0;34m)\u001b[0m\u001b[0;34m\u001b[0m\u001b[0m\n",
      "\u001b[0;31mKeyboardInterrupt\u001b[0m: "
     ]
    }
   ],
   "source": [
    "#### pygame.init()\n",
    "screen = pygame.display.set_mode(dispSize)\n",
    "screen.fill([220, 220, 220])\n",
    "\n",
    "rList, episodes = [], []\n",
    "\n",
    "# Make Obstacles (obsNumber)\n",
    "obstaclePos = [[0, 0] for _ in range(obsNumber)]\n",
    "for i in range(0,obsNumber):\n",
    "    obstaclePos[i][0] = int(150 + i % 7 * 150)\n",
    "    obstaclePos[i][1] = int(150 + i / 7 * 150)\n",
    "# Number of Obstacles = 150\n",
    "# Number of Obstacles = 200\n",
    "# for i in range(0,obsNumber):\n",
    "#     obstaclePos[i][0] = int(150 + i % 14 * 80)\n",
    "#     obstaclePos[i][1] = int(80 + i / 14 * 80)\n",
    "\n",
    "index = rangeFinder(obstaclePos, initPosAgent)\n",
    "rangeObstacle = [[0,0] for _ in range(rangeNumber)]\n",
    "for j in range(0, rangeNumber):\n",
    "    rangeObstacle[j][0] = obstaclePos[index[j]][0]\n",
    "    rangeObstacle[j][1] = obstaclePos[index[j]][1]\n",
    "\n",
    "for e in range(num_episodes):\n",
    "    # Initialize\n",
    "    done = False\n",
    "    score = 0\n",
    "    x = initPosAgent[0]\n",
    "    y = initPosAgent[1]\n",
    "    \n",
    "    X = [initPosAgent] + rangeObstacle\n",
    "    V = [[0,0] for i in xrange(len(X))]\n",
    "    V_max = [3.0 for i in xrange(len(X))]\n",
    "#     goal = [goalPos] + rangeObstacle\n",
    "    randomNo = [0 for _ in range(rangeNumber)]\n",
    "    goal = [goalPos]\n",
    "    for i in range(0, rangeNumber):\n",
    "        randomNo[i] = random.randrange(0, 100)\n",
    "        goal += [initPosAgent]\n",
    "\n",
    "    print(\"Episode \", e, \"Starts!\")\n",
    "    while not done:\n",
    "        V_des = compute_V_des(X, goal, V_max)\n",
    "        V = RVO_update(X, V_des, V, ws_model)\n",
    "\n",
    "        x += int(V[0][0])\n",
    "        y += int(V[0][1])\n",
    "        \n",
    "        collisionFlag = 0\n",
    "        pygame.draw.circle(screen, [100, 100, 255], [x,y], 10, 0)\n",
    "        \n",
    "        if math.sqrt((x -  goalPos[0])**2 + (y - goalPos[1])**2) <= agentRadius * 2:\n",
    "            print(\"Goal Reached!\")\n",
    "            collisionFlag = 1\n",
    "            done = True\n",
    "        index = rangeFinder(obstaclePos, [x,y])\n",
    "        for j in range(0, rangeNumber):\n",
    "#             V[j + 1][0] = random.randrange(-1, 2)\n",
    "#             V[j + 1][1] = random.randrange(-1, 2)\n",
    "            rangeObstacle[j][0] = obstaclePos[index[j]][0] + int(round(V[j + 1][0]))\n",
    "            rangeObstacle[j][1] = obstaclePos[index[j]][1] + int(round(V[j + 1][1]))\n",
    "            obstaclePos[index[j]][0] = rangeObstacle[j][0]\n",
    "            obstaclePos[index[j]][1] = rangeObstacle[j][1]\n",
    "            \n",
    "            if math.sqrt((x - rangeObstacle[j][0])**2 + (y - rangeObstacle[j][1])**2) < 19:\n",
    "                print(\"Collision!\")\n",
    "                collisionFlag = -1\n",
    "                done = True\n",
    "        k = 0\n",
    "        for i in range(0,obsNumber):\n",
    "\n",
    "            \n",
    "            if i == index[0] or i == index[1] or i == index[2] or i == index[3] or i == index[4]:\n",
    "                pygame.draw.circle(screen, [255, 255, 50], rangeObstacle[k], obstacleRadius, 0)\n",
    "                k += 1\n",
    "            else:\n",
    "                pygame.draw.circle(screen, [255, 50, 50], obstaclePos[i], obstacleRadius, 0)\n",
    "                obstaclePos[i][0] = obstaclePos[i][0] + random.randrange(-1,2)\n",
    "                obstaclePos[i][1] = obstaclePos[i][1] + random.randrange(-1,2)\n",
    "        goal = [goalPos]\n",
    "        for i in range(0, rangeNumber):\n",
    "            goal += [[rangeObstacle[i][0] + random.randrange(-1,2), rangeObstacle[i][1] + random.randrange(-1,2)]]\n",
    "#             if i == rangeNumber - 1:\n",
    "#                 goal += [rangeObstacle[0]]\n",
    "#             else:\n",
    "#                 goal += [rangeObstacle[i + 1]]\n",
    "        X = [[x, y]] + rangeObstacle\n",
    "#         goal = [goalPos, obstaclePos[index[0]], obstaclePos[index[1]], obstaclePos[index[2]], obstaclePos[index[3]], obstaclePos[index[4]]]\n",
    "\n",
    "        if done:\n",
    "            if collisionFlag == 1:\n",
    "                rList.append(1)\n",
    "            elif collisionFlag == -1:\n",
    "                rList.append(0)\n",
    "            # every episode, plot the play time\n",
    "            initPosAgent = initPosAgentStandard\n",
    "            obstaclePos = [[0, 0] for _ in range(obsNumber)]\n",
    "            for i in range(0,obsNumber):\n",
    "                obstaclePos[i][0] = int(150 + i % 7 * 150)\n",
    "                obstaclePos[i][1] = int(150 + i / 7 * 150)\n",
    "            # Number of Obstacles = 150\n",
    "            # Number of Obstacles = 200\n",
    "#             for i in range(0,obsNumber):\n",
    "#                 obstaclePos[i][0] = int(150 + i % 14 * 80)\n",
    "#                 obstaclePos[i][1] = int(80 + i / 14 * 80)\n",
    "\n",
    "            episodes.append(e)\n",
    "            \n",
    "        pygame.draw.circle(screen, [100,255,100], goalPos, 10, 0)\n",
    "        pygame.display.flip()\n",
    "        screen.fill([220,220,220])\n",
    "    print(\"Percent of successful episodes: \" + str(100.0 * sum(rList)/(e + 1)) + \"%\")"
   ]
  },
  {
   "cell_type": "code",
   "execution_count": 2,
   "metadata": {},
   "outputs": [
    {
     "ename": "NameError",
     "evalue": "name 'rList' is not defined",
     "output_type": "error",
     "traceback": [
      "\u001b[0;31m---------------------------------------------------------------------------\u001b[0m",
      "\u001b[0;31mNameError\u001b[0m                                 Traceback (most recent call last)",
      "\u001b[0;32m<ipython-input-2-64363ee5cd2f>\u001b[0m in \u001b[0;36m<module>\u001b[0;34m()\u001b[0m\n\u001b[0;32m----> 1\u001b[0;31m \u001b[0;32mprint\u001b[0m\u001b[0;34m(\u001b[0m\u001b[0;34m\"Percent of successful episodes: \"\u001b[0m \u001b[0;34m+\u001b[0m \u001b[0mstr\u001b[0m\u001b[0;34m(\u001b[0m\u001b[0;36m100.0\u001b[0m \u001b[0;34m*\u001b[0m \u001b[0msum\u001b[0m\u001b[0;34m(\u001b[0m\u001b[0mrList\u001b[0m\u001b[0;34m)\u001b[0m\u001b[0;34m/\u001b[0m\u001b[0mnum_episodes\u001b[0m\u001b[0;34m)\u001b[0m \u001b[0;34m+\u001b[0m \u001b[0;34m\"%\"\u001b[0m\u001b[0;34m)\u001b[0m\u001b[0;34m\u001b[0m\u001b[0m\n\u001b[0m\u001b[1;32m      2\u001b[0m \u001b[0;34m\u001b[0m\u001b[0m\n\u001b[1;32m      3\u001b[0m \u001b[0;31m# plt.bar(range(len(rList)), rList, color = \"Blue\", width = 0.00001)\u001b[0m\u001b[0;34m\u001b[0m\u001b[0;34m\u001b[0m\u001b[0m\n\u001b[1;32m      4\u001b[0m \u001b[0;31m# plt.show()\u001b[0m\u001b[0;34m\u001b[0m\u001b[0;34m\u001b[0m\u001b[0m\n",
      "\u001b[0;31mNameError\u001b[0m: name 'rList' is not defined"
     ]
    }
   ],
   "source": [
    "print(\"Percent of successful episodes: \" + str(100.0 * sum(rList)/num_episodes) + \"%\")\n",
    "\n",
    "# plt.bar(range(len(rList)), rList, color = \"Blue\", width = 0.00001)\n",
    "# plt.show()"
   ]
  },
  {
   "cell_type": "code",
   "execution_count": null,
   "metadata": {
    "collapsed": true
   },
   "outputs": [],
   "source": []
  }
 ],
 "metadata": {
  "kernelspec": {
   "display_name": "Python 2",
   "language": "python",
   "name": "python2"
  },
  "language_info": {
   "codemirror_mode": {
    "name": "ipython",
    "version": 2
   },
   "file_extension": ".py",
   "mimetype": "text/x-python",
   "name": "python",
   "nbconvert_exporter": "python",
   "pygments_lexer": "ipython2",
   "version": "2.7.14"
  }
 },
 "nbformat": 4,
 "nbformat_minor": 2
}
