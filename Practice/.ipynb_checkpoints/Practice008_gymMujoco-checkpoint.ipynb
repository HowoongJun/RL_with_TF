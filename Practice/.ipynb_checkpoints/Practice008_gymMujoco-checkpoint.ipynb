{
 "cells": [
  {
   "cell_type": "code",
   "execution_count": 3,
   "metadata": {},
   "outputs": [
    {
     "ename": "SyntaxError",
     "evalue": "invalid syntax (<ipython-input-3-c61aa85d0084>, line 10)",
     "output_type": "error",
     "traceback": [
      "\u001b[0;36m  File \u001b[0;32m\"<ipython-input-3-c61aa85d0084>\"\u001b[0;36m, line \u001b[0;32m10\u001b[0m\n\u001b[0;31m    a = [1 0.1 0.1 0.1 0.1 0.1 0.1 0.1]\u001b[0m\n\u001b[0m             ^\u001b[0m\n\u001b[0;31mSyntaxError\u001b[0m\u001b[0;31m:\u001b[0m invalid syntax\n"
     ]
    }
   ],
   "source": [
    "import gym\n",
    "import numpy as np\n",
    "# import mujoco_py\n",
    "env = gym.make('Ant-v1')\n",
    "for i in xrange(10):\n",
    "    env.reset()\n",
    "    for i in xrange(10):\n",
    "        a = (np.random.rand(*env.action_space.shape) - 0.5) * 1.1\n",
    "        print a\n",
    "        # returns observation, reward, done, info\n",
    "        o, r, d, i = env.step(a)\n",
    "        env.render()\n"
   ]
  }
 ],
 "metadata": {
  "kernelspec": {
   "display_name": "Python 2",
   "language": "python",
   "name": "python2"
  },
  "language_info": {
   "codemirror_mode": {
    "name": "ipython",
    "version": 2
   },
   "file_extension": ".py",
   "mimetype": "text/x-python",
   "name": "python",
   "nbconvert_exporter": "python",
   "pygments_lexer": "ipython2",
   "version": "2.7.14"
  }
 },
 "nbformat": 4,
 "nbformat_minor": 2
}
