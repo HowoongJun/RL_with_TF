{
 "cells": [
  {
   "cell_type": "code",
   "execution_count": 1,
   "metadata": {
    "collapsed": true
   },
   "outputs": [],
   "source": [
    "import pygame, sys, random\n",
    "import numpy as np\n",
    "import tensorflow as tf\n",
    "import math\n",
    "import matplotlib.pyplot as plt\n",
    "\n",
    "num_episodes = 3601\n",
    "dis = 0.99\n",
    "rList = []\n",
    "\n",
    "obstacleRadius = 10\n",
    "agentRadius = 10\n",
    "\n",
    "# get size of state and action from environment\n",
    "\n",
    "boundaryPos = [50, 50]\n",
    "boundaryLength = [200,200]\n",
    "initPosAgent = [boundaryPos[0] + boundaryLength[0] / 2 + 100, boundaryPos[1] + boundaryLength[1] / 2]\n",
    "initPosGoal =  [boundaryPos[0] + boundaryLength[0] / 2, boundaryPos[1] + boundaryLength[1] / 2]\n",
    "\n",
    "moveObstacles = False\n",
    "action_size = 9\n",
    "obsNumber = 4\n",
    "state_size = 2\n",
    "obsAngleUnit = 1"
   ]
  },
  {
   "cell_type": "code",
   "execution_count": 2,
   "metadata": {},
   "outputs": [],
   "source": [
    "hidden_size = 2\n",
    "learning_rate = 0.00002\n",
    "\n",
    "# X = tf.placeholder(tf.float32,  [None, state_size], name = \"input_x\")\n",
    "# W1 = tf.get_variable(\"W1\", shape = [state_size, hidden_size], initializer = tf.contrib.layers.xavier_initializer())\n",
    "# layer1 = tf.nn.tanh(tf.matmul(X, W1))\n",
    "# W2 = tf.get_variable(\"W2\", shape = [hidden_size, action_size], initializer = tf.contrib.layers.xavier_initializer())\n",
    "X = tf.placeholder(tf.float32,  [None, state_size], name = \"input_x\")\n",
    "W1 = tf.get_variable(\"W1\", shape = [state_size, action_size], initializer = tf.contrib.layers.xavier_initializer())\n",
    "# Qpred = tf.nn.tanh(tf.matmul(X, W1))\n",
    "\n",
    "Qpred = tf.matmul(X,W1)\n",
    "\n",
    "Y = tf.placeholder(shape  = [None, action_size], dtype = tf.float32)\n",
    "\n",
    "loss = tf.reduce_sum(tf.square(Y - Qpred))\n",
    "train = tf.train.AdamOptimizer(learning_rate = learning_rate).minimize(loss)"
   ]
  },
  {
   "cell_type": "code",
   "execution_count": 3,
   "metadata": {
    "collapsed": true
   },
   "outputs": [],
   "source": [
    "def ckWall(xPos, yPos):\n",
    "    flagWall = 0\n",
    "    if(xPos < boundaryPos[0]):\n",
    "        xPos = boundaryPos[0]\n",
    "#         xPos = boundaryPos[0] + boundaryLength[0]\n",
    "        flagWall = -1\n",
    "    elif(xPos > boundaryPos[0] + boundaryLength[0]):\n",
    "        xPos = boundaryPos[0] + boundaryLength[0]\n",
    "#         xPos = boundaryPos[0]\n",
    "        flagWall = -1\n",
    "    if(yPos < boundaryPos[1]):\n",
    "        yPos = boundaryPos[1]\n",
    "#         yPos = boundaryPos[1] + boundaryLength[1]\n",
    "        flagWall = -1\n",
    "    elif(yPos > boundaryPos[1] + boundaryLength[1]):\n",
    "        yPos = boundaryPos[1] + boundaryLength[1]\n",
    "#         yPos = boundaryPos[1]\n",
    "        flagWall = -1\n",
    "    return [int(round(xPos)), int(round(yPos)), flagWall]"
   ]
  },
  {
   "cell_type": "code",
   "execution_count": 4,
   "metadata": {
    "collapsed": true
   },
   "outputs": [],
   "source": [
    "def takeAction(action):\n",
    "    xAction = 0\n",
    "    yAction = 0\n",
    "    if action == 0:\n",
    "        xAction = 1\n",
    "    elif action == 1:\n",
    "        xAction = 1\n",
    "        yAction = 1\n",
    "    elif action == 2:\n",
    "        xAction = 1\n",
    "        yAction = -1\n",
    "    elif action == 3:\n",
    "        xAction = -1\n",
    "        yAction = 1\n",
    "    elif action == 4:\n",
    "        xAction = -1\n",
    "    elif action == 5:\n",
    "        xAction = -1\n",
    "        yAction = -1\n",
    "    elif action == 6:\n",
    "        yAction = -1\n",
    "    elif action == 7:\n",
    "        yAction = 1\n",
    "    elif action == 8:\n",
    "        xAction = 0\n",
    "        yAction = 0\n",
    "        \n",
    "    return [xAction, yAction]"
   ]
  },
  {
   "cell_type": "code",
   "execution_count": 5,
   "metadata": {
    "collapsed": true
   },
   "outputs": [],
   "source": [
    "def stateGenerator(intenPref, distPref):\n",
    "    returnSum = [intenPref, distPref]\n",
    "    returnSum = np.reshape(returnSum, [1, state_size])\n",
    "#     print returnSum\n",
    "    return returnSum"
   ]
  },
  {
   "cell_type": "code",
   "execution_count": 6,
   "metadata": {
    "collapsed": true
   },
   "outputs": [],
   "source": [
    "def rangeFinder(allObsPos, rangeCenter):\n",
    "    allObsAgtDistance = [0 for _ in range(obsNumber)]\n",
    "    for i in range(0, obsNumber):\n",
    "        allObsAgtDistance[i] = math.sqrt((allObsPos[i][0] - rangeCenter[0])**2 + (allObsPos[i][1] - rangeCenter[1])**2)\n",
    "    index = np.argmin(allObsAgtDistance)\n",
    "    return index"
   ]
  },
  {
   "cell_type": "code",
   "execution_count": 7,
   "metadata": {},
   "outputs": [
    {
     "name": "stdout",
     "output_type": "stream",
     "text": [
      "('Episode ', 0, 'Starts!')\n"
     ]
    },
    {
     "ename": "KeyboardInterrupt",
     "evalue": "",
     "output_type": "error",
     "traceback": [
      "\u001b[0;31m---------------------------------------------------------------------------\u001b[0m",
      "\u001b[0;31mKeyboardInterrupt\u001b[0m                         Traceback (most recent call last)",
      "\u001b[0;32m<ipython-input-7-f227ffc7992f>\u001b[0m in \u001b[0;36m<module>\u001b[0;34m()\u001b[0m\n\u001b[1;32m    103\u001b[0m             \u001b[0mpygame\u001b[0m\u001b[0;34m.\u001b[0m\u001b[0mdraw\u001b[0m\u001b[0;34m.\u001b[0m\u001b[0mcircle\u001b[0m\u001b[0;34m(\u001b[0m\u001b[0mscreen\u001b[0m\u001b[0;34m,\u001b[0m \u001b[0;34m[\u001b[0m\u001b[0;36m100\u001b[0m\u001b[0;34m,\u001b[0m\u001b[0;36m255\u001b[0m\u001b[0;34m,\u001b[0m\u001b[0;36m100\u001b[0m\u001b[0;34m]\u001b[0m\u001b[0;34m,\u001b[0m \u001b[0minitPosGoal\u001b[0m\u001b[0;34m,\u001b[0m \u001b[0;36m10\u001b[0m\u001b[0;34m,\u001b[0m \u001b[0;36m1\u001b[0m\u001b[0;34m)\u001b[0m\u001b[0;34m\u001b[0m\u001b[0m\n\u001b[1;32m    104\u001b[0m             \u001b[0mpygame\u001b[0m\u001b[0;34m.\u001b[0m\u001b[0mdraw\u001b[0m\u001b[0;34m.\u001b[0m\u001b[0mrect\u001b[0m\u001b[0;34m(\u001b[0m\u001b[0mscreen\u001b[0m\u001b[0;34m,\u001b[0m \u001b[0;34m[\u001b[0m\u001b[0;36m255\u001b[0m\u001b[0;34m,\u001b[0m\u001b[0;36m100\u001b[0m\u001b[0;34m,\u001b[0m\u001b[0;36m100\u001b[0m\u001b[0;34m]\u001b[0m\u001b[0;34m,\u001b[0m\u001b[0;34m[\u001b[0m\u001b[0mboundaryPos\u001b[0m\u001b[0;34m[\u001b[0m\u001b[0;36m0\u001b[0m\u001b[0;34m]\u001b[0m\u001b[0;34m,\u001b[0m\u001b[0mboundaryPos\u001b[0m\u001b[0;34m[\u001b[0m\u001b[0;36m1\u001b[0m\u001b[0;34m]\u001b[0m\u001b[0;34m,\u001b[0m \u001b[0mboundaryLength\u001b[0m\u001b[0;34m[\u001b[0m\u001b[0;36m0\u001b[0m\u001b[0;34m]\u001b[0m\u001b[0;34m,\u001b[0m \u001b[0mboundaryLength\u001b[0m\u001b[0;34m[\u001b[0m\u001b[0;36m1\u001b[0m\u001b[0;34m]\u001b[0m\u001b[0;34m]\u001b[0m\u001b[0;34m,\u001b[0m\u001b[0;36m1\u001b[0m\u001b[0;34m)\u001b[0m\u001b[0;34m\u001b[0m\u001b[0m\n\u001b[0;32m--> 105\u001b[0;31m             \u001b[0mpygame\u001b[0m\u001b[0;34m.\u001b[0m\u001b[0mdisplay\u001b[0m\u001b[0;34m.\u001b[0m\u001b[0mflip\u001b[0m\u001b[0;34m(\u001b[0m\u001b[0;34m)\u001b[0m\u001b[0;34m\u001b[0m\u001b[0m\n\u001b[0m\u001b[1;32m    106\u001b[0m             \u001b[0mscreen\u001b[0m\u001b[0;34m.\u001b[0m\u001b[0mfill\u001b[0m\u001b[0;34m(\u001b[0m\u001b[0;34m[\u001b[0m\u001b[0;36m200\u001b[0m\u001b[0;34m,\u001b[0m\u001b[0;36m200\u001b[0m\u001b[0;34m,\u001b[0m\u001b[0;36m200\u001b[0m\u001b[0;34m]\u001b[0m\u001b[0;34m)\u001b[0m\u001b[0;34m\u001b[0m\u001b[0m\n\u001b[1;32m    107\u001b[0m         \u001b[0;32mprint\u001b[0m\u001b[0;34m(\u001b[0m\u001b[0;34m\"Episode : {}, Object Index: {}\"\u001b[0m\u001b[0;34m.\u001b[0m\u001b[0mformat\u001b[0m\u001b[0;34m(\u001b[0m\u001b[0mepisode\u001b[0m\u001b[0;34m,\u001b[0m \u001b[0midx\u001b[0m\u001b[0;34m)\u001b[0m\u001b[0;34m)\u001b[0m\u001b[0;34m\u001b[0m\u001b[0m\n",
      "\u001b[0;31mKeyboardInterrupt\u001b[0m: "
     ]
    }
   ],
   "source": [
    "#display\n",
    "pygame.init()\n",
    "screen = pygame.display.set_mode([300,300])\n",
    "screen.fill([200, 200, 200])\n",
    "\n",
    "obsAngleIdx = 0\n",
    "# Make Obstacles (obsNumber)\n",
    "obstaclePos = [[0, 0] for _ in range(obsNumber)]\n",
    "posOffset = 60\n",
    "obstaclePos[0][0] = int(initPosGoal[0] + posOffset) \n",
    "obstaclePos[0][1] = int(initPosGoal[1]) \n",
    "obstaclePos[1][0] = int(initPosGoal[0]) \n",
    "obstaclePos[1][1] = int(initPosGoal[1] + posOffset) \n",
    "obstaclePos[2][0] = int(initPosGoal[0] - posOffset) \n",
    "obstaclePos[2][1] = int(initPosGoal[1]) \n",
    "obstaclePos[3][0] = int(initPosGoal[0]) \n",
    "obstaclePos[3][1] = int(initPosGoal[1] - posOffset) \n",
    "\n",
    "init = tf.global_variables_initializer()\n",
    "with tf.Session() as sess:\n",
    "    sess.run(init)\n",
    "\n",
    "    for episode in range(num_episodes):\n",
    "        done = False\n",
    "        score = 0\n",
    "        x = initPosAgent[0]\n",
    "        y = initPosAgent[1]\n",
    "        print(\"Episode \", episode, \"Starts!\")\n",
    "        \n",
    "        xMove = 0\n",
    "        yMove = 0\n",
    "        idx = rangeFinder(obstaclePos, [x,y])\n",
    "        FeatureVec1 = (x - initPosGoal[0])**2 + (y - initPosGoal[1])**2\n",
    "        FeatureVec2 = 1 / (0.2 + (x - obstaclePos[idx][0])**2 + (y - obstaclePos[idx][1])**2)\n",
    "        state = stateGenerator(FeatureVec1, FeatureVec2)\n",
    "\n",
    "        e = 1.0 / ((episode/400.0) + 1.0)\n",
    "#         e = 0.1\n",
    "#         e = 1.0 / (1.0 + episode / 40.0)\n",
    "        rAll = 0\n",
    "        step_count = 0\n",
    "\n",
    "        while not done:\n",
    "            step_count += 1\n",
    "            Qinput = np.reshape(state, [1, state_size])\n",
    "            Qs = sess.run(Qpred, feed_dict = {X: Qinput})\n",
    "#             print Qs\n",
    "            if np.random.rand(1) < e:\n",
    "                action = random.randrange(0,8)\n",
    "            else:\n",
    "                action = np.argmax(Qs)\n",
    "#             print action\n",
    "            xMove = 0\n",
    "            yMove = 0\n",
    "            [xMove, yMove] = takeAction(action)\n",
    "\n",
    "            x = x + xMove\n",
    "            y = y + yMove\n",
    "            \n",
    "            wallFlag = 0\n",
    "            collisionFlag = 0\n",
    "            [x, y, wallFlag] = ckWall(x, y)\n",
    "            pygame.draw.circle(screen, [100,100,255],[x,y],agentRadius,0)\n",
    "            idx = rangeFinder(obstaclePos, [x,y])\n",
    "            FeatureVec1 = (x - initPosGoal[0])**2 + (y - initPosGoal[1])**2\n",
    "            FeatureVec2 = 1 / (0.2 + (x - obstaclePos[idx][0])**2 + (y - obstaclePos[idx][1])**2)\n",
    "            next_state = stateGenerator(FeatureVec1, FeatureVec2)\n",
    "            ## Draw Environment (Obstacle + Map)\n",
    "            if(math.sqrt((x - initPosGoal[0])**2 + (y - initPosGoal[1])**2) <= obstacleRadius + agentRadius):\n",
    "                print(\"Goal Reached!\")\n",
    "                reward = 20\n",
    "                collisionFlag = 1\n",
    "                done = True\n",
    "            for i in range(0,obsNumber):\n",
    "                pygame.draw.circle(screen, [255, 50, 50], obstaclePos[i], obstacleRadius, 0)\n",
    "                if math.sqrt((x - obstaclePos[i][0])**2 + (y - obstaclePos[i][1])**2) <= obstacleRadius + agentRadius:\n",
    "                    print(\"Collision!\", idx)\n",
    "                    reward = -30\n",
    "                    collisionFlag = -1\n",
    "                    done = True\n",
    "                    break\n",
    "            if not done:\n",
    "                reward = -1.0 * ((x - initPosGoal[0])**2 + (y - initPosGoal[1])**2) / 100000.0\n",
    "#                 reward = 0\n",
    "\n",
    "                Qinput1 = np.reshape(next_state, [1, state_size])\n",
    "                Qs1 = sess.run(Qpred, feed_dict = {X: Qinput1})\n",
    "                Qs[0,action] = reward + dis * np.max(Qs1)\n",
    "            else:\n",
    "                if collisionFlag == 1:\n",
    "                    Qs[0, action] = 20\n",
    "                    rList.append(1)\n",
    "                elif collisionFlag == -1:\n",
    "                    Qs[0, action] = -30\n",
    "                    rList.append(0)\n",
    "            \n",
    "            sess.run(train, feed_dict={X: Qinput, Y: Qs})\n",
    "            state = next_state\n",
    "            \n",
    "            if done:\n",
    "                for i in range(0,obsNumber):\n",
    "                    pygame.draw.circle(screen, [255, 50, 50], obstaclePos[i], obstacleRadius, 0)\n",
    "            pygame.draw.circle(screen, [100,255,100], initPosGoal, 10, 1)\n",
    "            pygame.draw.rect(screen, [255,100,100],[boundaryPos[0],boundaryPos[1], boundaryLength[0], boundaryLength[1]],1)\n",
    "            pygame.display.flip()\n",
    "            screen.fill([200,200,200])\n",
    "        print(\"Episode : {}, Object Index: {}\".format(episode, idx))"
   ]
  },
  {
   "cell_type": "code",
   "execution_count": null,
   "metadata": {
    "collapsed": true
   },
   "outputs": [],
   "source": [
    "print(\"Percent of successful episodes: \" + str(sum(rList)/num_episodes) + \"%\")\n",
    "plt.bar(range(len(rList)), rList, color = \"white\", width = 0.00001)\n",
    "plt.show()"
   ]
  }
 ],
 "metadata": {
  "kernelspec": {
   "display_name": "Python 2",
   "language": "python",
   "name": "python2"
  },
  "language_info": {
   "codemirror_mode": {
    "name": "ipython",
    "version": 2
   },
   "file_extension": ".py",
   "mimetype": "text/x-python",
   "name": "python",
   "nbconvert_exporter": "python",
   "pygments_lexer": "ipython2",
   "version": "2.7.14"
  }
 },
 "nbformat": 4,
 "nbformat_minor": 2
}
