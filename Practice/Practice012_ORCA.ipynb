{
 "cells": [
  {
   "cell_type": "code",
   "execution_count": 1,
   "metadata": {},
   "outputs": [
    {
     "name": "stdout",
     "output_type": "stream",
     "text": [
      "Simulation has 2 agents and 0 obstacle vertices in it.\n",
      "Running simulation\n",
      "End\n"
     ]
    }
   ],
   "source": [
    "#!/usr/bin/env python\n",
    "\n",
    "import rvo2\n",
    "import pygame\n",
    "dispSize = [1280, 960]\n",
    "#timeStep, neighborDist, maxNeighbors, timeHorizon, timeHorizonObst, radius, maxSpeed, c_velocity\n",
    "sim = rvo2.PyRVOSimulator(1/60., 20, 5, 1.5, 2, 20, 2.0, (0, 0))\n",
    "screen = pygame.display.set_mode(dispSize)\n",
    "screen.fill([220, 220, 220])\n",
    "# Pass either just the position (the other parameters then use\n",
    "# the default values passed to the PyRVOSimulator constructor),\n",
    "# or pass all available parameters.\n",
    "a0 = sim.addAgent((500, 500), 20, 5, 1.5, 2, 10, 1.0, (0, 0))\n",
    "a1 = sim.addAgent((540, 550), 20, 5, 1.5, 2, 10, 1.0, (0, 0))\n",
    "tmpXY = [[500, 500], [540, 550]]\n",
    "# Obstacles are also supported.\n",
    "# o1 = sim.addObstacle([(150, 150), (120, 120), (180, 180)])\n",
    "# sim.processObstacles()\n",
    "\n",
    "print('Simulation has %i agents and %i obstacle vertices in it.' % (sim.getNumAgents(), sim.getNumObstacleVertices()))\n",
    "print('Running simulation')\n",
    "\n",
    "for step in range(500):\n",
    "    sim.setAgentPrefVelocity(a0, (1, 1))\n",
    "    sim.setAgentPrefVelocity(a1, (-1, -1))\n",
    "    sim.setAgentPosition(a0, (tmpXY[0][0], tmpXY[0][1]))\n",
    "    sim.setAgentPosition(a1, (tmpXY[1][0], tmpXY[1][1]))\n",
    "    sim.doStep()\n",
    "#     positions = ['(%5.3f, %5.3f)' % sim.getAgentPosition(agent_no) for agent_no in (a0, a1)]\n",
    "#     print('step=%2i  t=%.3f  %s' % (step, sim.getGlobalTime(), '  '.join(positions)))\n",
    "#     print sim.getAgentVelocity(a0)\n",
    "    tmpXY = []\n",
    "    for agent_no in (a0, a1):\n",
    "        tmpXY = tmpXY + [[int(sim.getAgentPosition(agent_no)[0]), int(sim.getAgentPosition(agent_no)[1])]]\n",
    "        pygame.draw.circle(screen, [100, 100, 255], tmpXY[agent_no], 10, 0)\n",
    "        \n",
    "#     print('step=%2i  t=%.3f  %s' % (step, sim.getGlobalTime(), '  '.join(positions)))\n",
    "    pygame.display.flip()\n",
    "    screen.fill([220,220,220])\n",
    "print \"End\""
   ]
  },
  {
   "cell_type": "code",
   "execution_count": 1,
   "metadata": {},
   "outputs": [
    {
     "name": "stdout",
     "output_type": "stream",
     "text": [
      "Simulation has 4 agents and 3 obstacle vertices in it.\n",
      "Running simulation\n",
      "step= 0  t=0.017  (0.001, 0.001)  (0.999, 0.001)  (0.999, 0.999)  (0.001, 0.999)\n",
      "step= 1  t=0.033  (0.002, 0.002)  (0.998, 0.002)  (0.998, 0.998)  (0.002, 0.998)\n",
      "step= 2  t=0.050  (0.003, 0.003)  (0.997, 0.003)  (0.997, 0.997)  (0.003, 0.997)\n",
      "step= 3  t=0.067  (0.004, 0.004)  (0.996, 0.004)  (0.996, 0.996)  (0.004, 0.996)\n",
      "step= 4  t=0.083  (0.005, 0.005)  (0.995, 0.005)  (0.995, 0.995)  (0.005, 0.995)\n",
      "step= 5  t=0.100  (0.006, 0.006)  (0.994, 0.006)  (0.994, 0.994)  (0.006, 0.994)\n",
      "step= 6  t=0.117  (0.008, 0.008)  (0.992, 0.008)  (0.992, 0.992)  (0.008, 0.992)\n",
      "step= 7  t=0.133  (0.009, 0.009)  (0.991, 0.009)  (0.991, 0.991)  (0.009, 0.991)\n",
      "step= 8  t=0.150  (0.010, 0.010)  (0.990, 0.010)  (0.990, 0.990)  (0.010, 0.990)\n",
      "step= 9  t=0.167  (0.011, 0.011)  (0.989, 0.011)  (0.989, 0.989)  (0.011, 0.989)\n",
      "step=10  t=0.183  (0.012, 0.012)  (0.988, 0.012)  (0.988, 0.988)  (0.012, 0.988)\n",
      "step=11  t=0.200  (0.013, 0.013)  (0.987, 0.013)  (0.987, 0.987)  (0.013, 0.987)\n",
      "step=12  t=0.217  (0.014, 0.014)  (0.986, 0.014)  (0.986, 0.986)  (0.014, 0.986)\n",
      "step=13  t=0.233  (0.014, 0.014)  (0.986, 0.014)  (0.986, 0.986)  (0.014, 0.986)\n",
      "step=14  t=0.250  (0.015, 0.015)  (0.985, 0.015)  (0.985, 0.985)  (0.015, 0.985)\n",
      "step=15  t=0.267  (0.016, 0.016)  (0.984, 0.016)  (0.984, 0.984)  (0.016, 0.984)\n",
      "step=16  t=0.283  (0.017, 0.017)  (0.983, 0.017)  (0.983, 0.983)  (0.017, 0.983)\n",
      "step=17  t=0.300  (0.018, 0.018)  (0.982, 0.018)  (0.982, 0.982)  (0.018, 0.982)\n",
      "step=18  t=0.317  (0.019, 0.019)  (0.981, 0.019)  (0.981, 0.981)  (0.019, 0.981)\n",
      "step=19  t=0.333  (0.020, 0.020)  (0.980, 0.020)  (0.980, 0.980)  (0.020, 0.980)\n"
     ]
    }
   ],
   "source": [
    "#Sample\n",
    "#!/usr/bin/env python\n",
    "\n",
    "import rvo2\n",
    "\n",
    "sim = rvo2.PyRVOSimulator(1/60., 1.5, 5, 1.5, 2, 0.4, 2)\n",
    "\n",
    "# Pass either just the position (the other parameters then use\n",
    "# the default values passed to the PyRVOSimulator constructor),\n",
    "# or pass all available parameters.\n",
    "a0 = sim.addAgent((0, 0))\n",
    "a1 = sim.addAgent((1, 0))\n",
    "a2 = sim.addAgent((1, 1))\n",
    "a3 = sim.addAgent((0, 1), 1.5, 5, 1.5, 2, 0.4, 2, (0, 0))\n",
    "\n",
    "# Obstacles are also supported.\n",
    "o1 = sim.addObstacle([(0.1, 0.1), (-0.1, 0.1), (-0.1, -0.1)])\n",
    "sim.processObstacles()\n",
    "\n",
    "sim.setAgentPrefVelocity(a0, (1, 1))\n",
    "sim.setAgentPrefVelocity(a1, (-1, 1))\n",
    "sim.setAgentPrefVelocity(a2, (-1, -1))\n",
    "sim.setAgentPrefVelocity(a3, (1, -1))\n",
    "\n",
    "print('Simulation has %i agents and %i obstacle vertices in it.' %\n",
    "      (sim.getNumAgents(), sim.getNumObstacleVertices()))\n",
    "\n",
    "print('Running simulation')\n",
    "\n",
    "for step in range(20):\n",
    "    sim.doStep()\n",
    "\n",
    "    positions = ['(%5.3f, %5.3f)' % sim.getAgentPosition(agent_no)\n",
    "                 for agent_no in (a0, a1, a2, a3)]\n",
    "    print('step=%2i  t=%.3f  %s' % (step, sim.getGlobalTime(), '  '.join(positions)))"
   ]
  }
 ],
 "metadata": {
  "kernelspec": {
   "display_name": "Python 2",
   "language": "python",
   "name": "python2"
  },
  "language_info": {
   "codemirror_mode": {
    "name": "ipython",
    "version": 2
   },
   "file_extension": ".py",
   "mimetype": "text/x-python",
   "name": "python",
   "nbconvert_exporter": "python",
   "pygments_lexer": "ipython2",
   "version": "2.7.14"
  }
 },
 "nbformat": 4,
 "nbformat_minor": 2
}
