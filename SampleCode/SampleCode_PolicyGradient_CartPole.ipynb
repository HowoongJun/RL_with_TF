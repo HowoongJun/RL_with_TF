{
 "cells": [
  {
   "cell_type": "code",
   "execution_count": 17,
   "metadata": {
    "collapsed": true
   },
   "outputs": [],
   "source": [
    "import numpy as np\n",
    "import cPickle as pickle\n",
    "import gym\n",
    "import matplotlib.pyplot as plt\n",
    "\n",
    "H = 10\n",
    "learning_rate = 2e-3\n",
    "gamma = 0.99\n",
    "decay_rate = 0.99\n",
    "score_queue_size = 100\n",
    "resume = False\n",
    "D = 3"
   ]
  },
  {
   "cell_type": "code",
   "execution_count": 18,
   "metadata": {
    "collapsed": true
   },
   "outputs": [],
   "source": [
    "if resume:  model = pickle.load(open('save.p', 'rb'))\n",
    "else:\n",
    "    model = {}\n",
    "    model['W1'] = np.random.randn(H,D) / np.sqrt(D)\n",
    "    model['W2'] = np.random.randn(H) / np.sqrt(H)\n",
    "\n",
    "grad_buffer = { k : np.zeros_like(v) for k,v in model.iteritems() }\n",
    "rmsprop_cache = { k : np.zeros_like(v) for k,v in model.iteritems() }"
   ]
  },
  {
   "cell_type": "code",
   "execution_count": 19,
   "metadata": {
    "collapsed": true
   },
   "outputs": [],
   "source": [
    "def sigmoid(x): \n",
    "    return 1.0 / (1.0 + np.exp(-x))"
   ]
  },
  {
   "cell_type": "code",
   "execution_count": 20,
   "metadata": {
    "collapsed": true
   },
   "outputs": [],
   "source": [
    "def prepro(I):\n",
    "    return I[1:]"
   ]
  },
  {
   "cell_type": "code",
   "execution_count": 21,
   "metadata": {
    "collapsed": true
   },
   "outputs": [],
   "source": [
    "def discount_rewards(r):\n",
    "    # r과 같은 size의 벡터를 만들고 0으로 Initialize\n",
    "    discounted_r = np.zeros_like(r)\n",
    "    running_add = 0\n",
    "    for t in reversed(xrange(0, r.size)):\n",
    "        running_add = running_add * gamma + r[t]\n",
    "        discounted_r[t] = running_add\n",
    "        \n",
    "    return discounted_r"
   ]
  },
  {
   "cell_type": "code",
   "execution_count": 22,
   "metadata": {
    "collapsed": true
   },
   "outputs": [],
   "source": [
    "def policy_forward(x):\n",
    "    #Layer는 2개. h는 Hidden Layer\n",
    "    #dot: Matrix의 내적. 즉 여기선 h = Wx\n",
    "    h = np.dot(model['W1'], x)\n",
    "    h = sigmoid(h)\n",
    "    \n",
    "    #굳이 output layer의 결과를 logp로 쓴 이유가 있나..?\n",
    "    logp = np.dot(model['W2'], h)\n",
    "    p = sigmoid(logp)\n",
    "    \n",
    "    # 굳이 Hidden Layer의 값 까지 return 하는 이유가 있을까? - Back propagation을 위해서\n",
    "    return p, h"
   ]
  },
  {
   "cell_type": "code",
   "execution_count": 23,
   "metadata": {
    "collapsed": true
   },
   "outputs": [],
   "source": [
    "def policy_backward(eph, epdlogp, epx):\n",
    "    global grad_buffer\n",
    "    # ravel: reshape 함수와 같다.\n",
    "    dW2 = np.dot(eph.T, epdlogp).ravel()\n",
    "    dh = np.outer(epdlogp, model['W2'])\n",
    "    eph_dot = eph*(1-eph)\n",
    "    dW1 = dh * eph_dot\n",
    "    dW1 = np.dot(dW1.T, epx)\n",
    "\n",
    "    for k in model: grad_buffer[k] += {'W1':dW1, 'W2':dW2}[k]"
   ]
  },
  {
   "cell_type": "code",
   "execution_count": 24,
   "metadata": {},
   "outputs": [
    {
     "name": "stderr",
     "output_type": "stream",
     "text": [
      "[2017-07-25 15:18:20,143] Making new env: CartPole-v0\n"
     ]
    }
   ],
   "source": [
    "env = gym.make('CartPole-v0')\n",
    "#env.monitor.start('CartPole', force=True)\n",
    "observation = env.reset()\n",
    "reward_sum, episode_num = 0,0\n",
    "xs,hs,dlogps,drs = [],[],[],[]\n",
    "score_queue = []\n",
    "rList = []"
   ]
  },
  {
   "cell_type": "code",
   "execution_count": null,
   "metadata": {
    "collapsed": true
   },
   "outputs": [],
   "source": [
    "#아마도 이 샘플 코드는 Monte-Carlo Policy Gradient REINFORCE가 아닐까 싶음 - Episode Based\n",
    "while True:\n",
    "    \n",
    "    x = prepro(observation)\n",
    "    # Layer를 통과시킴 act_prob는 Action의 추정값\n",
    "    act_prob, h = policy_forward(x)\n",
    "    \n",
    "    # Score Queue 는 100개의 최신 점수를 나타냄. 이 점수의 Mean이 180을 넘으면 Action을 반반의 확률로, 아니면 랜덤하게\n",
    "    if np.mean(score_queue) > 180:\n",
    "        action = 1 if 0.5 < act_prob else 0\n",
    "    else:\n",
    "        action = 1 if np.random.uniform() < act_prob else 0\n",
    "\n",
    "    # 저장 x, h, action -> xs, hs, y\n",
    "    xs.append(x)\n",
    "    hs.append(h)\n",
    "    y = action\n",
    "    # dlogps: derivative of logps\n",
    "    dlogps.append(y - act_prob)\n",
    "    \n",
    "    # 고른 Action을 하고 나서의 State, Reward 등의 정보\n",
    "    observation, reward, done, info = env.step(action)\n",
    "    \n",
    "    # 한 Episode동안 받는 Reward를 모두 합함\n",
    "    reward_sum += reward\n",
    "    \n",
    "    drs.append(reward)\n",
    "    \n",
    "    if done:\n",
    "        episode_num += 1\n",
    "        \n",
    "        # 아직 100개가 안되었으면 그냥 저장하고, 100개 넘으면 뒤에꺼 pop, 그리고 저장 (100개 유지)\n",
    "        if episode_num > score_queue_size:\n",
    "            score_queue.append(reward_sum)\n",
    "            score_queue.pop(0)\n",
    "        else:\n",
    "            score_queue.append(reward_sum)\n",
    "        \n",
    "        print \"episode : \" + str(episode_num) + \", reward : \" + str(reward_sum) + \", reward_mean : \" + str(np.mean(score_queue))\n",
    "        rList.append(reward_sum)\n",
    "        if np.mean(score_queue) >= 200:\n",
    "            print \"CartPole solved!!!!!\"\n",
    "            break\n",
    "        \n",
    "        # np.vstack: 열 벡터로 바꿔줌\n",
    "        epx = np.vstack(xs)\n",
    "        eph = np.vstack(hs)\n",
    "        epdlogp = np.vstack(dlogps)\n",
    "        epr = np.vstack(drs)\n",
    "        xs,hs,dlogps,drs = [],[],[],[]\n",
    "        \n",
    "        # Normalize Z = (X - m)/sigma. - Advantage Function\n",
    "        discounted_epr = discount_rewards(epr)\n",
    "        discounted_epr -= np.mean(discounted_epr)\n",
    "        discounted_epr /= np.std(discounted_epr)\n",
    "        \n",
    "        # Advantage Function에 Error를 곱해줌\n",
    "        epdlogp *= discounted_epr\n",
    "        \n",
    "        # Backpropagation. Gradient를 계산해 buffer에 저장해둔다.\n",
    "        policy_backward(eph,epdlogp,epx)\n",
    "        for k,v in model.iteritems():\n",
    "            g = grad_buffer[k] \n",
    "            rmsprop_cache[k] = decay_rate * rmsprop_cache[k] + (1 - decay_rate)*g**2\n",
    "            model[k] += learning_rate * g / (np.sqrt(rmsprop_cache[k]) + 1e-5)\n",
    "            grad_buffer[k] = np.zeros_like(v)\n",
    "        \n",
    "        if episode_num % 1000 == 0: pickle.dump(model, open('Cart.p', 'wb'))\n",
    "        \n",
    "        reward_sum = 0\n",
    "        observation = env.reset()\n",
    "        "
   ]
  },
  {
   "cell_type": "code",
   "execution_count": 26,
   "metadata": {},
   "outputs": [
    {
     "data": {
      "image/png": "[encoded data removed]",
      "text/plain": [
       "<matplotlib.figure.Figure at 0x7fa199f02d50>"
      ]
     },
     "metadata": {},
     "output_type": "display_data"
    }
   ],
   "source": [
    "plt.bar(range(len(rList)), rList, color = \"blue\", width = 1)\n",
    "figure = plt.gcf()\n",
    "figure.set_size_inches(16, 12)\n",
    "plt.show()"
   ]
  },
  {
   "cell_type": "code",
   "execution_count": null,
   "metadata": {
    "collapsed": true
   },
   "outputs": [],
   "source": []
  }
 ],
 "metadata": {
  "kernelspec": {
   "display_name": "Python 2",
   "language": "python",
   "name": "python2"
  },
  "language_info": {
   "codemirror_mode": {
    "name": "ipython",
    "version": 2
   },
   "file_extension": ".py",
   "mimetype": "text/x-python",
   "name": "python",
   "nbconvert_exporter": "python",
   "pygments_lexer": "ipython2",
   "version": "2.7.13"
  }
 },
 "nbformat": 4,
 "nbformat_minor": 2
}
